{
 "cells": [
  {
   "cell_type": "code",
   "execution_count": 17,
   "metadata": {},
   "outputs": [],
   "source": [
    "import os\n",
    "from pathlib import Path\n",
    "import matplotlib.pyplot as plt\n",
    "import cv2\n",
    "from PIL import Image\n",
    "\n",
    "from tqdm.notebook import tqdm"
   ]
  },
  {
   "cell_type": "code",
   "execution_count": 3,
   "metadata": {},
   "outputs": [],
   "source": [
    "spacecrafts_dir = Path(\"C:\\\\Users\\\\nikhi\\\\Documents\\\\Projects\\\\NASA_segmentation_F24\\\\data\\\\spacecrafts\")\n",
    "images_dir = spacecrafts_dir / \"images\"\n",
    "masks_dir = spacecrafts_dir / \"mask\"\n",
    "\n",
    "train_images = os.listdir(images_dir / \"train\")\n",
    "train_masks = os.listdir(masks_dir / \"train\")\n",
    "\n",
    "val_images = os.listdir(images_dir / \"val\")\n",
    "val_masks = os.listdir(masks_dir / \"val\")"
   ]
  },
  {
   "cell_type": "code",
   "execution_count": 9,
   "metadata": {},
   "outputs": [
    {
     "name": "stdout",
     "output_type": "stream",
     "text": [
      "All images are in png format\n",
      "All masks are in png format\n"
     ]
    },
    {
     "data": {
      "application/vnd.jupyter.widget-view+json": {
       "model_id": "dfbfed1881ba4b5a904c3c6769a3c395",
       "version_major": 2,
       "version_minor": 0
      },
      "text/plain": [
       "Checking train image sizes:   0%|          | 0/2517 [00:00<?, ?it/s]"
      ]
     },
     "metadata": {},
     "output_type": "display_data"
    },
    {
     "name": "stdout",
     "output_type": "stream",
     "text": [
      "All train images and masks are of the same size\n"
     ]
    },
    {
     "data": {
      "application/vnd.jupyter.widget-view+json": {
       "model_id": "207bc9f2963c48afab455c09225095a0",
       "version_major": 2,
       "version_minor": 0
      },
      "text/plain": [
       "Checking val image sizes:   0%|          | 0/600 [00:00<?, ?it/s]"
      ]
     },
     "metadata": {},
     "output_type": "display_data"
    },
    {
     "name": "stdout",
     "output_type": "stream",
     "text": [
      "All val images and masks are of the same size\n",
      "Number of training images and masks: 2517\n",
      "All train images have a corresponding mask\n",
      "All val images have a corresponding mask\n"
     ]
    }
   ],
   "source": [
    "# Check if all images and masks are in the png format\n",
    "for img in train_images + val_images:\n",
    "    assert img.endswith(\".png\"), f\"{img} is not a png file\"\n",
    "print(\"All images are in png format\")\n",
    "    \n",
    "for mask in train_masks + val_masks:\n",
    "    assert mask.endswith(\".png\"), f\"{mask} is not a png file\"\n",
    "print(\"All masks are in png format\")\n",
    "\n",
    "# Check if all images and masks are of the same size\n",
    "for img in tqdm(train_images, desc=\"Checking train image sizes\"):\n",
    "    img_path = images_dir / \"train\" / img\n",
    "    mask_path = masks_dir / \"train\" / img.replace(\".png\", \"_mask.png\")\n",
    "    img = cv2.imread(str(img_path))\n",
    "    mask = cv2.imread(str(mask_path))\n",
    "    \n",
    "    if img is None:\n",
    "        print(f\"Could not read image: {img_path}\")\n",
    "    if mask is None:\n",
    "        print(f\"Could not read mask: {mask_path}\")\n",
    "    \n",
    "    img_size = img.shape[:2]\n",
    "    mask_size = mask.shape[:2]\n",
    "    assert img_size == mask_size, f\"[train] Image and mask sizes do not match for {img}\"\n",
    "print(\"All train images and masks are of the same size\")\n",
    "\n",
    "\n",
    "for img in tqdm(val_images, desc=\"Checking val image sizes\"):\n",
    "    img_path = images_dir / \"val\" / img\n",
    "    mask_path = masks_dir / \"val\" / img.replace(\".png\", \"_mask.png\")\n",
    "    img = cv2.imread(str(img_path))\n",
    "    mask = cv2.imread(str(mask_path))\n",
    "    \n",
    "    if img is None:\n",
    "        print(f\"Could not read image: {img_path}\")\n",
    "    if mask is None:\n",
    "        print(f\"Could not read mask: {mask_path}\")\n",
    "    \n",
    "    img_size = img.shape[:2]\n",
    "    mask_size = mask.shape[:2]\n",
    "    assert img_size == mask_size, f\"[val] Image and mask sizes do not match for {img}\"\n",
    "print(\"All val images and masks are of the same size\")\n",
    "\n",
    "# Check if the number of images and masks are the same\n",
    "assert len(train_images) == len(train_masks), \"Number of training images and masks are not the same\"\n",
    "assert len(val_images) == len(val_masks), \"Number of validation images and masks are not the same\"\n",
    "print(\"Number of training images and masks:\", len(train_images))\n",
    "\n",
    "# Check if every image has a corresponding mask\n",
    "for img in train_images:\n",
    "    assert f\"{os.path.splitext(img)[0]}_mask.png\" in train_masks, f\"Mask for {img} not found\"\n",
    "print(\"All train images have a corresponding mask\")\n",
    "\n",
    "for img in val_images:\n",
    "    assert f\"{os.path.splitext(img)[0]}_mask.png\" in val_masks, f\"Mask for {img} not found\"\n",
    "print(\"All val images have a corresponding mask\")"
   ]
  },
  {
   "cell_type": "code",
   "execution_count": 10,
   "metadata": {},
   "outputs": [],
   "source": [
    "dest_dir = Path(\"C:\\\\Users\\\\nikhi\\\\Documents\\\\Projects\\\\NASA_segmentation_F24\\\\data\\\\spacecrafts_processed\")\n",
    "images_dest_dir = dest_dir / \"images\"\n",
    "masks_dest_dir = dest_dir / \"masks\"\n",
    "\n",
    "os.makedirs(images_dest_dir / \"train\", exist_ok=True)\n",
    "os.makedirs(masks_dest_dir / \"train\", exist_ok=True)\n",
    "os.makedirs(images_dest_dir / \"val\", exist_ok=True)\n",
    "os.makedirs(masks_dest_dir / \"val\", exist_ok=True)"
   ]
  },
  {
   "cell_type": "code",
   "execution_count": 31,
   "metadata": {},
   "outputs": [
    {
     "data": {
      "application/vnd.jupyter.widget-view+json": {
       "model_id": "210d37a8ab6044ec904fd959e3c3b652",
       "version_major": 2,
       "version_minor": 0
      },
      "text/plain": [
       "Copying train images:   0%|          | 0/2517 [00:00<?, ?it/s]"
      ]
     },
     "metadata": {},
     "output_type": "display_data"
    }
   ],
   "source": [
    "# Copy and resize train images and masks\n",
    "for img in tqdm(train_images, desc=\"Copying train images\"):\n",
    "    img_path = images_dir / \"train\" / img\n",
    "    mask_path = masks_dir / \"train\" / img.replace(\".png\", \"_mask.png\")\n",
    "    \n",
    "    img_dest_path = images_dest_dir / \"train\" / img\n",
    "    mask_dest_path = masks_dest_dir / \"train\" / img\n",
    "        \n",
    "    # Resize image\n",
    "    img = cv2.imread(str(img_path))\n",
    "    img = cv2.resize(img, (1280, 1024), interpolation=cv2.INTER_LANCZOS4)\n",
    "    img = Image.fromarray(img)\n",
    "    img.save(img_dest_path)\n",
    "    \n",
    "    # Merge classes and Resize mask\n",
    "    mask = cv2.imread(str(mask_path))    \n",
    "    mask = cv2.resize(mask, (1280, 1024), interpolation=cv2.INTER_LANCZOS4)\n",
    "    mask = cv2.cvtColor(mask, cv2.COLOR_BGR2GRAY)\n",
    "    mask[mask > 0] = 255\n",
    "    \n",
    "    mask = Image.fromarray(mask)\n",
    "    mask.save(mask_dest_path)"
   ]
  },
  {
   "cell_type": "code",
   "execution_count": 32,
   "metadata": {},
   "outputs": [
    {
     "data": {
      "application/vnd.jupyter.widget-view+json": {
       "model_id": "0369214e675d4c4f987923ae64f320f6",
       "version_major": 2,
       "version_minor": 0
      },
      "text/plain": [
       "Copying val images:   0%|          | 0/600 [00:00<?, ?it/s]"
      ]
     },
     "metadata": {},
     "output_type": "display_data"
    }
   ],
   "source": [
    "# Copy and resize val images and masks   \n",
    "for img in tqdm(val_images, desc=\"Copying val images\"):\n",
    "    img_path = images_dir / \"val\" / img\n",
    "    mask_path = masks_dir / \"val\" / img.replace(\".png\", \"_mask.png\")\n",
    "    \n",
    "    img_dest_path = images_dest_dir / \"val\" / img\n",
    "    mask_dest_path = masks_dest_dir / \"val\" / img\n",
    "        \n",
    "    # Resize image\n",
    "    img = cv2.imread(str(img_path))\n",
    "    img = cv2.resize(img, (1280, 1024), interpolation=cv2.INTER_LANCZOS4)\n",
    "    img = Image.fromarray(img)\n",
    "    img.save(img_dest_path)\n",
    "    \n",
    "    # Merge classes and Resize mask\n",
    "    mask = cv2.imread(str(mask_path))    \n",
    "    mask = cv2.resize(mask, (1280, 1024), interpolation=cv2.INTER_LANCZOS4)\n",
    "    mask = cv2.cvtColor(mask, cv2.COLOR_BGR2GRAY)\n",
    "    mask[mask > 0] = 255\n",
    "    \n",
    "    mask = Image.fromarray(mask)\n",
    "    mask.save(mask_dest_path)"
   ]
  }
 ],
 "metadata": {
  "kernelspec": {
   "display_name": ".venv",
   "language": "python",
   "name": "python3"
  },
  "language_info": {
   "codemirror_mode": {
    "name": "ipython",
    "version": 3
   },
   "file_extension": ".py",
   "mimetype": "text/x-python",
   "name": "python",
   "nbconvert_exporter": "python",
   "pygments_lexer": "ipython3",
   "version": "3.11.4"
  }
 },
 "nbformat": 4,
 "nbformat_minor": 2
}
